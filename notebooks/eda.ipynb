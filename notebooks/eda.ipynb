{
 "cells": [
  {
   "cell_type": "markdown",
   "id": "42351310-e097-44b1-b064-59d5ba6bc564",
   "metadata": {},
   "source": [
    "# Explore [SQuAD2.0](https://rajpurkar.github.io/SQuAD-explorer/) Dataset"
   ]
  },
  {
   "cell_type": "code",
   "execution_count": 3,
   "id": "7ee10245-f08e-4915-ab82-7e4bcd659cec",
   "metadata": {},
   "outputs": [],
   "source": [
    "import json\n",
    "from collections import defaultdict\n",
    "import pandas as pd"
   ]
  },
  {
   "cell_type": "code",
   "execution_count": 3,
   "id": "c2abf6c0-d8c8-407b-98a1-c8842f5fe6a6",
   "metadata": {},
   "outputs": [],
   "source": [
    "train_path = \"../data/train-v2.0.json\""
   ]
  },
  {
   "cell_type": "markdown",
   "id": "bb50a50d-d45a-46bc-9d89-8548675eb8ff",
   "metadata": {},
   "source": [
    "Loading Training data"
   ]
  },
  {
   "cell_type": "code",
   "execution_count": 4,
   "id": "956a4575-b4bb-49c1-a97a-d1eca6266eaf",
   "metadata": {},
   "outputs": [],
   "source": [
    "with open(train_path, \"r\") as f:\n",
    "    train = json.load(f)"
   ]
  },
  {
   "cell_type": "code",
   "execution_count": 5,
   "id": "2577b665-d201-4fc0-9ab0-439e4b9c2ac9",
   "metadata": {},
   "outputs": [
    {
     "data": {
      "text/plain": [
       "2"
      ]
     },
     "execution_count": 5,
     "metadata": {},
     "output_type": "execute_result"
    }
   ],
   "source": [
    "len(train)"
   ]
  },
  {
   "cell_type": "code",
   "execution_count": 6,
   "id": "8bd11835-c03c-47a7-abc3-f34a5cd65a75",
   "metadata": {},
   "outputs": [
    {
     "data": {
      "text/plain": [
       "dict_keys(['version', 'data'])"
      ]
     },
     "execution_count": 6,
     "metadata": {},
     "output_type": "execute_result"
    }
   ],
   "source": [
    "train.keys()"
   ]
  },
  {
   "cell_type": "markdown",
   "id": "dd0d385c-737c-4605-a76c-d461e40020c1",
   "metadata": {},
   "source": [
    "## Converting the JSON file to a cleaner DataFrame Representation"
   ]
  },
  {
   "cell_type": "code",
   "execution_count": 7,
   "id": "9d887694-f07d-4c90-b64b-a3c42c316925",
   "metadata": {},
   "outputs": [],
   "source": [
    "del train[\"version\"]"
   ]
  },
  {
   "cell_type": "code",
   "execution_count": 8,
   "id": "3d9db161-a0a3-4e19-bc48-9fc04387e6fb",
   "metadata": {
    "scrolled": true
   },
   "outputs": [
    {
     "data": {
      "text/plain": [
       "1"
      ]
     },
     "execution_count": 8,
     "metadata": {},
     "output_type": "execute_result"
    }
   ],
   "source": [
    "len(train)"
   ]
  },
  {
   "cell_type": "code",
   "execution_count": 9,
   "id": "cc30a7f8-0bc7-43fa-8e42-0da41dd20686",
   "metadata": {},
   "outputs": [],
   "source": [
    "train = train[\"data\"]"
   ]
  },
  {
   "cell_type": "code",
   "execution_count": 10,
   "id": "4c352897-b054-40b0-94b0-2698e62d3ec6",
   "metadata": {},
   "outputs": [
    {
     "data": {
      "text/plain": [
       "442"
      ]
     },
     "execution_count": 10,
     "metadata": {},
     "output_type": "execute_result"
    }
   ],
   "source": [
    "len(train)"
   ]
  },
  {
   "cell_type": "markdown",
   "id": "373ad4fb-40d1-4b19-9597-82689ad54d82",
   "metadata": {},
   "source": [
    "Each item in the training data corresponds to one of the 442 Wikipedia articles used to create the dataset. Each document consists of several questions having (possibly) several answers with each 'context'."
   ]
  },
  {
   "cell_type": "code",
   "execution_count": 22,
   "id": "fc7f3275-7d5c-4388-bcf4-3c2af7a3f28e",
   "metadata": {},
   "outputs": [],
   "source": [
    "qa_dict = defaultdict(lambda: dict())"
   ]
  },
  {
   "cell_type": "code",
   "execution_count": 23,
   "id": "17dcb375-ccb3-41a9-b94b-7dba0d38598a",
   "metadata": {},
   "outputs": [],
   "source": [
    "for d in train:\n",
    "    for para in d[\"paragraphs\"]:\n",
    "        for p in para[\"qas\"]:\n",
    "            if len(p[\"answers\"]) == 1:\n",
    "                qa_dict[p[\"id\"]] = {\n",
    "                    \"question\": p[\"question\"],\n",
    "                    \"answer\": p[\"answers\"][0][\"text\"],\n",
    "                    \"answer_start\": p[\"answers\"][0][\"answer_start\"],\n",
    "                    \"is_impossible\": p[\"is_impossible\"],\n",
    "                    \"context\": para[\"context\"]\n",
    "                }\n",
    "            else:\n",
    "                for a in p[\"answers\"]:\n",
    "                    qa_dict[p[\"id\"]] = {\n",
    "                        \"question\": p[\"question\"],\n",
    "                        \"answer\": p[\"answers\"][0][\"text\"],\n",
    "                        \"answer_start\": a[\"answer_start\"],\n",
    "                        \"is_impossible\": p[\"is_impossible\"],\n",
    "                        \"context\": context\n",
    "                    }"
   ]
  },
  {
   "cell_type": "code",
   "execution_count": 26,
   "id": "2cbf31c2-e7cc-4f92-aade-62e2d2b9f4c0",
   "metadata": {},
   "outputs": [],
   "source": [
    "train_df = pd.DataFrame.from_dict(qa_dict, orient=\"index\")"
   ]
  },
  {
   "cell_type": "code",
   "execution_count": 27,
   "id": "1355d66b-e23b-4ee0-8808-6e250fe74e90",
   "metadata": {},
   "outputs": [
    {
     "data": {
      "text/html": [
       "<div>\n",
       "<style scoped>\n",
       "    .dataframe tbody tr th:only-of-type {\n",
       "        vertical-align: middle;\n",
       "    }\n",
       "\n",
       "    .dataframe tbody tr th {\n",
       "        vertical-align: top;\n",
       "    }\n",
       "\n",
       "    .dataframe thead th {\n",
       "        text-align: right;\n",
       "    }\n",
       "</style>\n",
       "<table border=\"1\" class=\"dataframe\">\n",
       "  <thead>\n",
       "    <tr style=\"text-align: right;\">\n",
       "      <th></th>\n",
       "      <th>question</th>\n",
       "      <th>answer</th>\n",
       "      <th>answer_start</th>\n",
       "      <th>is_impossible</th>\n",
       "      <th>context</th>\n",
       "    </tr>\n",
       "  </thead>\n",
       "  <tbody>\n",
       "    <tr>\n",
       "      <th>56be85543aeaaa14008c9063</th>\n",
       "      <td>When did Beyonce start becoming popular?</td>\n",
       "      <td>in the late 1990s</td>\n",
       "      <td>269</td>\n",
       "      <td>False</td>\n",
       "      <td>Beyoncé Giselle Knowles-Carter (/biːˈjɒnseɪ/ b...</td>\n",
       "    </tr>\n",
       "    <tr>\n",
       "      <th>56be85543aeaaa14008c9065</th>\n",
       "      <td>What areas did Beyonce compete in when she was...</td>\n",
       "      <td>singing and dancing</td>\n",
       "      <td>207</td>\n",
       "      <td>False</td>\n",
       "      <td>Beyoncé Giselle Knowles-Carter (/biːˈjɒnseɪ/ b...</td>\n",
       "    </tr>\n",
       "    <tr>\n",
       "      <th>56be85543aeaaa14008c9066</th>\n",
       "      <td>When did Beyonce leave Destiny's Child and bec...</td>\n",
       "      <td>2003</td>\n",
       "      <td>526</td>\n",
       "      <td>False</td>\n",
       "      <td>Beyoncé Giselle Knowles-Carter (/biːˈjɒnseɪ/ b...</td>\n",
       "    </tr>\n",
       "    <tr>\n",
       "      <th>56bf6b0f3aeaaa14008c9601</th>\n",
       "      <td>In what city and state did Beyonce  grow up?</td>\n",
       "      <td>Houston, Texas</td>\n",
       "      <td>166</td>\n",
       "      <td>False</td>\n",
       "      <td>Beyoncé Giselle Knowles-Carter (/biːˈjɒnseɪ/ b...</td>\n",
       "    </tr>\n",
       "    <tr>\n",
       "      <th>56bf6b0f3aeaaa14008c9602</th>\n",
       "      <td>In which decade did Beyonce become famous?</td>\n",
       "      <td>late 1990s</td>\n",
       "      <td>276</td>\n",
       "      <td>False</td>\n",
       "      <td>Beyoncé Giselle Knowles-Carter (/biːˈjɒnseɪ/ b...</td>\n",
       "    </tr>\n",
       "  </tbody>\n",
       "</table>\n",
       "</div>"
      ],
      "text/plain": [
       "                                                                   question  \\\n",
       "56be85543aeaaa14008c9063           When did Beyonce start becoming popular?   \n",
       "56be85543aeaaa14008c9065  What areas did Beyonce compete in when she was...   \n",
       "56be85543aeaaa14008c9066  When did Beyonce leave Destiny's Child and bec...   \n",
       "56bf6b0f3aeaaa14008c9601      In what city and state did Beyonce  grow up?    \n",
       "56bf6b0f3aeaaa14008c9602         In which decade did Beyonce become famous?   \n",
       "\n",
       "                                       answer  answer_start  is_impossible  \\\n",
       "56be85543aeaaa14008c9063    in the late 1990s           269          False   \n",
       "56be85543aeaaa14008c9065  singing and dancing           207          False   \n",
       "56be85543aeaaa14008c9066                 2003           526          False   \n",
       "56bf6b0f3aeaaa14008c9601       Houston, Texas           166          False   \n",
       "56bf6b0f3aeaaa14008c9602           late 1990s           276          False   \n",
       "\n",
       "                                                                    context  \n",
       "56be85543aeaaa14008c9063  Beyoncé Giselle Knowles-Carter (/biːˈjɒnseɪ/ b...  \n",
       "56be85543aeaaa14008c9065  Beyoncé Giselle Knowles-Carter (/biːˈjɒnseɪ/ b...  \n",
       "56be85543aeaaa14008c9066  Beyoncé Giselle Knowles-Carter (/biːˈjɒnseɪ/ b...  \n",
       "56bf6b0f3aeaaa14008c9601  Beyoncé Giselle Knowles-Carter (/biːˈjɒnseɪ/ b...  \n",
       "56bf6b0f3aeaaa14008c9602  Beyoncé Giselle Knowles-Carter (/biːˈjɒnseɪ/ b...  "
      ]
     },
     "execution_count": 27,
     "metadata": {},
     "output_type": "execute_result"
    }
   ],
   "source": [
    "train_df.head()"
   ]
  },
  {
   "cell_type": "code",
   "execution_count": 28,
   "id": "fb037608-be18-427a-b032-ac63a9f08220",
   "metadata": {},
   "outputs": [],
   "source": [
    "train_df.to_csv(\"../data/train_df.csv\")"
   ]
  },
  {
   "cell_type": "code",
   "execution_count": 29,
   "id": "55a2264b-03aa-462f-a8d2-073a6e050b5d",
   "metadata": {},
   "outputs": [
    {
     "data": {
      "text/plain": [
       "86821"
      ]
     },
     "execution_count": 29,
     "metadata": {},
     "output_type": "execute_result"
    }
   ],
   "source": [
    "len(train_df)"
   ]
  },
  {
   "cell_type": "markdown",
   "id": "83a5a830-b234-485b-a463-eb78bf8c8ca2",
   "metadata": {},
   "source": [
    "## Loading the DataFrame"
   ]
  },
  {
   "cell_type": "code",
   "execution_count": 4,
   "id": "bf1bccb0-c962-4922-a3f6-cfb82320e3ae",
   "metadata": {},
   "outputs": [],
   "source": [
    "train_df = pd.read_csv(\"../data/train_df.csv\")"
   ]
  },
  {
   "cell_type": "code",
   "execution_count": 6,
   "id": "574b0219-7ede-4fbe-9e11-c16333227bdf",
   "metadata": {},
   "outputs": [
    {
     "data": {
      "text/plain": [
       "'Beyoncé Giselle Knowles-Carter (/biːˈjɒnseɪ/ bee-YON-say) (born September 4, 1981) is an American singer, songwriter, record producer and actress. Born and raised in Houston, Texas, she performed in various singing and dancing competitions as a child, and rose to fame in the late 1990s as lead singer of R&B girl-group Destiny\\'s Child. Managed by her father, Mathew Knowles, the group became one of the world\\'s best-selling girl groups of all time. Their hiatus saw the release of Beyoncé\\'s debut album, Dangerously in Love (2003), which established her as a solo artist worldwide, earned five Grammy Awards and featured the Billboard Hot 100 number-one singles \"Crazy in Love\" and \"Baby Boy\".'"
      ]
     },
     "execution_count": 6,
     "metadata": {},
     "output_type": "execute_result"
    }
   ],
   "source": [
    "train_df.loc[0][\"context\"]"
   ]
  },
  {
   "cell_type": "code",
   "execution_count": null,
   "id": "f9f46036-9e57-4b4c-9700-5a1a1a03cbb2",
   "metadata": {},
   "outputs": [],
   "source": []
  }
 ],
 "metadata": {
  "kernelspec": {
   "display_name": "Python 3 (ipykernel)",
   "language": "python",
   "name": "python3"
  },
  "language_info": {
   "codemirror_mode": {
    "name": "ipython",
    "version": 3
   },
   "file_extension": ".py",
   "mimetype": "text/x-python",
   "name": "python",
   "nbconvert_exporter": "python",
   "pygments_lexer": "ipython3",
   "version": "3.11.5"
  }
 },
 "nbformat": 4,
 "nbformat_minor": 5
}
