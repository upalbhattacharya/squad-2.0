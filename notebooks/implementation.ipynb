{
 "cells": [
  {
   "cell_type": "markdown",
   "id": "543452c8-4c7d-4346-906c-b70bdb05c42e",
   "metadata": {},
   "source": [
    "# Notebook for trying various things on-the-fly for the actual implementation"
   ]
  },
  {
   "cell_type": "markdown",
   "id": "b8ff0902-7cd2-4adf-bedf-2569c631f4dc",
   "metadata": {},
   "source": [
    "## Understanding how `torch.nn.CrossEntropyLoss` works"
   ]
  },
  {
   "cell_type": "code",
   "execution_count": 1,
   "id": "c761bb09-6bd0-4a4d-a1c1-4d3fbc2c22fb",
   "metadata": {},
   "outputs": [],
   "source": [
    "import torch.nn as nn\n",
    "import torch"
   ]
  },
  {
   "cell_type": "code",
   "execution_count": 9,
   "id": "78692f6f-87d4-45c0-8308-d10891689692",
   "metadata": {},
   "outputs": [],
   "source": [
    "criterion = nn.CrossEntropyLoss(ignore_index=preds.size(-1))"
   ]
  },
  {
   "cell_type": "code",
   "execution_count": 15,
   "id": "aa691138-65f4-4691-b436-edd67ca10ed9",
   "metadata": {},
   "outputs": [],
   "source": [
    "preds = torch.rand((3,15))"
   ]
  },
  {
   "cell_type": "code",
   "execution_count": 19,
   "id": "e1fbdfed-93bb-4940-92ff-e7bf16c7895c",
   "metadata": {},
   "outputs": [
    {
     "data": {
      "text/plain": [
       "torch.Size([3, 15])"
      ]
     },
     "execution_count": 19,
     "metadata": {},
     "output_type": "execute_result"
    }
   ],
   "source": [
    "preds.size()"
   ]
  },
  {
   "cell_type": "code",
   "execution_count": 21,
   "id": "5a14dea9-cdfa-4cbc-acd3-d5876332cbcc",
   "metadata": {},
   "outputs": [],
   "source": [
    "target = torch.tensor([12,\n",
    "                       11,\n",
    "                       10])"
   ]
  },
  {
   "cell_type": "code",
   "execution_count": 22,
   "id": "2705f6c3-a00e-4ae8-aeea-fd36ba2c453c",
   "metadata": {},
   "outputs": [
    {
     "data": {
      "text/plain": [
       "torch.Size([3])"
      ]
     },
     "execution_count": 22,
     "metadata": {},
     "output_type": "execute_result"
    }
   ],
   "source": [
    "target.size()"
   ]
  },
  {
   "cell_type": "code",
   "execution_count": 24,
   "id": "6eaf394f-326a-4704-b2c8-6d2934eb60ce",
   "metadata": {},
   "outputs": [
    {
     "data": {
      "text/plain": [
       "tensor(2.6205)"
      ]
     },
     "execution_count": 24,
     "metadata": {},
     "output_type": "execute_result"
    }
   ],
   "source": [
    "criterion(preds.float(), target)"
   ]
  },
  {
   "cell_type": "markdown",
   "id": "0b67ba80-f6da-4b67-b871-d31ebabfab2d",
   "metadata": {},
   "source": [
    "## Understanding how HuggingFace's models actually work"
   ]
  },
  {
   "cell_type": "code",
   "execution_count": 46,
   "id": "31335ce9-f234-43cb-8c43-1cf832b755fc",
   "metadata": {},
   "outputs": [],
   "source": [
    "from transformers import BertForQuestionAnswering, AutoTokenizer"
   ]
  },
  {
   "cell_type": "code",
   "execution_count": 47,
   "id": "0ea854d7-f0ce-410c-92a1-2e1a16032d82",
   "metadata": {},
   "outputs": [
    {
     "data": {
      "application/vnd.jupyter.widget-view+json": {
       "model_id": "e7bc50b192884c059d23e8a531a800b6",
       "version_major": 2,
       "version_minor": 0
      },
      "text/plain": [
       "Downloading (…)okenizer_config.json:   0%|          | 0.00/152 [00:00<?, ?B/s]"
      ]
     },
     "metadata": {},
     "output_type": "display_data"
    },
    {
     "data": {
      "application/vnd.jupyter.widget-view+json": {
       "model_id": "d0146477a3e1402e973e733ca3dd846f",
       "version_major": 2,
       "version_minor": 0
      },
      "text/plain": [
       "Downloading (…)lve/main/config.json:   0%|          | 0.00/508 [00:00<?, ?B/s]"
      ]
     },
     "metadata": {},
     "output_type": "display_data"
    },
    {
     "data": {
      "application/vnd.jupyter.widget-view+json": {
       "model_id": "773e78add21a499b905282a4396c6839",
       "version_major": 2,
       "version_minor": 0
      },
      "text/plain": [
       "Downloading (…)solve/main/vocab.txt:   0%|          | 0.00/213k [00:00<?, ?B/s]"
      ]
     },
     "metadata": {},
     "output_type": "display_data"
    },
    {
     "data": {
      "application/vnd.jupyter.widget-view+json": {
       "model_id": "72cf0c56f0f84b1980a16a09a9151da3",
       "version_major": 2,
       "version_minor": 0
      },
      "text/plain": [
       "Downloading (…)cial_tokens_map.json:   0%|          | 0.00/112 [00:00<?, ?B/s]"
      ]
     },
     "metadata": {},
     "output_type": "display_data"
    },
    {
     "data": {
      "application/vnd.jupyter.widget-view+json": {
       "model_id": "fed471dabfc3434a8bacae9062e3c5d8",
       "version_major": 2,
       "version_minor": 0
      },
      "text/plain": [
       "Downloading model.safetensors:   0%|          | 0.00/433M [00:00<?, ?B/s]"
      ]
     },
     "metadata": {},
     "output_type": "display_data"
    },
    {
     "name": "stderr",
     "output_type": "stream",
     "text": [
      "Some weights of the model checkpoint at deepset/bert-base-cased-squad2 were not used when initializing BertForQuestionAnswering: ['bert.pooler.dense.weight', 'bert.pooler.dense.bias']\n",
      "- This IS expected if you are initializing BertForQuestionAnswering from the checkpoint of a model trained on another task or with another architecture (e.g. initializing a BertForSequenceClassification model from a BertForPreTraining model).\n",
      "- This IS NOT expected if you are initializing BertForQuestionAnswering from the checkpoint of a model that you expect to be exactly identical (initializing a BertForSequenceClassification model from a BertForSequenceClassification model).\n"
     ]
    }
   ],
   "source": [
    "tokenizer = AutoTokenizer.from_pretrained(\"deepset/bert-base-cased-squad2\")\n",
    "model = BertForQuestionAnswering.from_pretrained(\"deepset/bert-base-cased-squad2\")"
   ]
  },
  {
   "cell_type": "code",
   "execution_count": 48,
   "id": "cb1adb36-4aa1-42f5-b5b3-71b274bc428e",
   "metadata": {},
   "outputs": [],
   "source": [
    "question, text = \"Who was Jim Henson?\", \"Jim Henson was a nice puppet\"\n",
    "\n",
    "inputs = tokenizer(question, text, return_tensors=\"pt\")\n",
    "with torch.no_grad():\n",
    "    outputs = model(**inputs)\n",
    "\n",
    "answer_start_index = outputs.start_logits.argmax()\n",
    "answer_end_index = outputs.end_logits.argmax()"
   ]
  },
  {
   "cell_type": "code",
   "execution_count": 57,
   "id": "650cfdc8-808a-4457-9def-c2c700148bee",
   "metadata": {},
   "outputs": [
    {
     "data": {
      "text/plain": [
       "tensor([[ 1.0374, -6.9344, -6.9556, -2.8814, -7.0174, -8.2111, -7.6869, -7.3035,\n",
       "          0.8261, -4.2656, -5.2627,  0.3830,  7.0740,  5.2306,  5.6687, -7.3035]],\n",
       "       grad_fn=<CloneBackward0>)"
      ]
     },
     "execution_count": 57,
     "metadata": {},
     "output_type": "execute_result"
    }
   ],
   "source": [
    "outputs.start_logits"
   ]
  },
  {
   "cell_type": "code",
   "execution_count": 49,
   "id": "227c89a0-983f-4ed9-ac60-39925fae0f34",
   "metadata": {},
   "outputs": [
    {
     "name": "stdout",
     "output_type": "stream",
     "text": [
      "tensor(12) tensor(14)\n"
     ]
    }
   ],
   "source": [
    "print(answer_start_index, answer_end_index)"
   ]
  },
  {
   "cell_type": "code",
   "execution_count": 50,
   "id": "d0f60e68-652c-4ff3-bed3-e742300c1d33",
   "metadata": {},
   "outputs": [],
   "source": [
    "target_start_index = torch.tensor([14])\n",
    "target_end_index = torch.tensor([15])"
   ]
  },
  {
   "cell_type": "code",
   "execution_count": 55,
   "id": "f2fc8d41-61e9-44d8-a800-8b552c788522",
   "metadata": {},
   "outputs": [
    {
     "data": {
      "text/plain": [
       "tensor(12)"
      ]
     },
     "execution_count": 55,
     "metadata": {},
     "output_type": "execute_result"
    }
   ],
   "source": [
    "answer_start_index"
   ]
  },
  {
   "cell_type": "code",
   "execution_count": 54,
   "id": "fe3ef95e-8857-498a-9c4f-204b07b3ba87",
   "metadata": {
    "scrolled": true
   },
   "outputs": [
    {
     "data": {
      "text/plain": [
       "tensor([14])"
      ]
     },
     "execution_count": 54,
     "metadata": {},
     "output_type": "execute_result"
    }
   ],
   "source": [
    "target_start_index"
   ]
  },
  {
   "cell_type": "code",
   "execution_count": 51,
   "id": "db084e83-a028-4d8e-bd4b-9bea2ffefcf5",
   "metadata": {},
   "outputs": [],
   "source": [
    "outputs = model(**inputs, start_positions=target_start_index, end_positions=target_end_index)\n",
    "loss = outputs.loss"
   ]
  },
  {
   "cell_type": "code",
   "execution_count": 53,
   "id": "d72e634b-f5de-4678-ae40-8abad4700db4",
   "metadata": {},
   "outputs": [
    {
     "data": {
      "text/plain": [
       "7.4120683670043945"
      ]
     },
     "execution_count": 53,
     "metadata": {},
     "output_type": "execute_result"
    }
   ],
   "source": [
    "loss.item()"
   ]
  },
  {
   "cell_type": "markdown",
   "id": "83160c88-040d-4638-b77a-3cdcebb713d9",
   "metadata": {},
   "source": [
    "## Investigation of the compatibility of `start_index` and computed `end_index` of answers"
   ]
  },
  {
   "cell_type": "code",
   "execution_count": 2,
   "id": "db3ea57d-a945-4623-8e1c-468fd61bb860",
   "metadata": {},
   "outputs": [],
   "source": [
    "import pandas as pd\n",
    "from transformers import BertForQuestionAnswering, AutoTokenizer"
   ]
  },
  {
   "cell_type": "code",
   "execution_count": 23,
   "id": "226c4110-295a-46ea-8b0c-22646d734e1c",
   "metadata": {},
   "outputs": [
    {
     "data": {
      "application/vnd.jupyter.widget-view+json": {
       "model_id": "6e240014523649b98f25c820cca25bbc",
       "version_major": 2,
       "version_minor": 0
      },
      "text/plain": [
       "Downloading (…)okenizer_config.json:   0%|          | 0.00/29.0 [00:00<?, ?B/s]"
      ]
     },
     "metadata": {},
     "output_type": "display_data"
    },
    {
     "data": {
      "application/vnd.jupyter.widget-view+json": {
       "model_id": "e140a05d8b3e4f338e33ea292968bede",
       "version_major": 2,
       "version_minor": 0
      },
      "text/plain": [
       "Downloading (…)lve/main/config.json:   0%|          | 0.00/570 [00:00<?, ?B/s]"
      ]
     },
     "metadata": {},
     "output_type": "display_data"
    },
    {
     "data": {
      "application/vnd.jupyter.widget-view+json": {
       "model_id": "52011a3cbb7c449f99435bd88ac0b5ed",
       "version_major": 2,
       "version_minor": 0
      },
      "text/plain": [
       "Downloading (…)solve/main/vocab.txt:   0%|          | 0.00/213k [00:00<?, ?B/s]"
      ]
     },
     "metadata": {},
     "output_type": "display_data"
    },
    {
     "data": {
      "application/vnd.jupyter.widget-view+json": {
       "model_id": "d9ca8e5764664347ab70e5c674baa742",
       "version_major": 2,
       "version_minor": 0
      },
      "text/plain": [
       "Downloading (…)/main/tokenizer.json:   0%|          | 0.00/436k [00:00<?, ?B/s]"
      ]
     },
     "metadata": {},
     "output_type": "display_data"
    },
    {
     "name": "stderr",
     "output_type": "stream",
     "text": [
      "Some weights of the model checkpoint at deepset/bert-base-cased-squad2 were not used when initializing BertForQuestionAnswering: ['bert.pooler.dense.weight', 'bert.pooler.dense.bias']\n",
      "- This IS expected if you are initializing BertForQuestionAnswering from the checkpoint of a model trained on another task or with another architecture (e.g. initializing a BertForSequenceClassification model from a BertForPreTraining model).\n",
      "- This IS NOT expected if you are initializing BertForQuestionAnswering from the checkpoint of a model that you expect to be exactly identical (initializing a BertForSequenceClassification model from a BertForSequenceClassification model).\n"
     ]
    }
   ],
   "source": [
    "tokenizer = AutoTokenizer.from_pretrained(\"bert-base-cased\")\n",
    "model = BertForQuestionAnswering.from_pretrained(\"deepset/bert-base-cased-squad2\")"
   ]
  },
  {
   "cell_type": "markdown",
   "id": "6506cd1e-acd6-4fc7-afc8-778dbf3c2f4a",
   "metadata": {},
   "source": [
    "Loading the Training DataFrame"
   ]
  },
  {
   "cell_type": "code",
   "execution_count": 4,
   "id": "36a9769e-85f3-45c7-9919-2ab879e4ecfc",
   "metadata": {},
   "outputs": [],
   "source": [
    "train_df = pd.read_csv(\"../data/train_df.csv\")"
   ]
  },
  {
   "cell_type": "code",
   "execution_count": 6,
   "id": "ad5255cb-246c-4bbd-aa4d-1a96984a3f5e",
   "metadata": {},
   "outputs": [
    {
     "data": {
      "text/plain": [
       "Index(['idx', 'question', 'answer', 'answer_start', 'is_impossible',\n",
       "       'context'],\n",
       "      dtype='object')"
      ]
     },
     "execution_count": 6,
     "metadata": {},
     "output_type": "execute_result"
    }
   ],
   "source": [
    "train_df.columns"
   ]
  },
  {
   "cell_type": "code",
   "execution_count": 7,
   "id": "36f53cc0-e5c2-44a9-a25f-3c25c1784c42",
   "metadata": {
    "scrolled": true
   },
   "outputs": [],
   "source": [
    "context = train_df.iloc[0][\"context\"]\n",
    "start_idx = train_df.iloc[0][\"answer_start\"]\n",
    "answer = train_df.iloc[0][\"answer\"]"
   ]
  },
  {
   "cell_type": "code",
   "execution_count": 10,
   "id": "b27dbedd-f083-4313-b52f-56b92717ac04",
   "metadata": {},
   "outputs": [
    {
     "name": "stdout",
     "output_type": "stream",
     "text": [
      "Beyoncé Giselle Knowles-Carter (/biːˈjɒnseɪ/ bee-YON-say) (born September 4, 1981) is an American singer, songwriter, record producer and actress. Born and raised in Houston, Texas, she performed in various singing and dancing competitions as a child, and rose to fame in the late 1990s as lead singer of R&B girl-group Destiny's Child. Managed by her father, Mathew Knowles, the group became one of the world's best-selling girl groups of all time. Their hiatus saw the release of Beyoncé's debut album, Dangerously in Love (2003), which established her as a solo artist worldwide, earned five Grammy Awards and featured the Billboard Hot 100 number-one singles \"Crazy in Love\" and \"Baby Boy\".\n"
     ]
    }
   ],
   "source": [
    "print(context)"
   ]
  },
  {
   "cell_type": "code",
   "execution_count": 11,
   "id": "9b82e2c2-d526-4219-b2b0-a588908e30f3",
   "metadata": {},
   "outputs": [
    {
     "name": "stdout",
     "output_type": "stream",
     "text": [
      "269\n"
     ]
    }
   ],
   "source": [
    "print(start_idx)"
   ]
  },
  {
   "cell_type": "code",
   "execution_count": 12,
   "id": "49b4d561-6fed-4abd-ae03-e2cbb301d20a",
   "metadata": {},
   "outputs": [
    {
     "name": "stdout",
     "output_type": "stream",
     "text": [
      "in the late 1990s\n"
     ]
    }
   ],
   "source": [
    "print(answer)"
   ]
  },
  {
   "cell_type": "code",
   "execution_count": 24,
   "id": "4a50b0ec-9d2e-43bf-b780-2ede33a16cc9",
   "metadata": {},
   "outputs": [],
   "source": [
    "input = tokenizer(context, return_tensors=\"pt\")"
   ]
  },
  {
   "cell_type": "code",
   "execution_count": 37,
   "id": "e5bd054d-518e-4a35-b117-3b2eccf2e7e9",
   "metadata": {},
   "outputs": [],
   "source": [
    "answer_encoded = tokenizer(answer, return_tensors=\"pt\")"
   ]
  },
  {
   "cell_type": "code",
   "execution_count": 38,
   "id": "ed23f699-684e-49de-9ee1-4d839aa74932",
   "metadata": {},
   "outputs": [],
   "source": [
    "answer_ids = answer_encoded.input_ids.squeeze()"
   ]
  },
  {
   "cell_type": "code",
   "execution_count": 29,
   "id": "edf2c191-e8ba-4840-84bf-3582a4f0b04a",
   "metadata": {},
   "outputs": [],
   "source": [
    "input_ids = input.input_ids.squeeze()"
   ]
  },
  {
   "cell_type": "code",
   "execution_count": 30,
   "id": "497412d4-4c02-4135-8076-b1daebbf9789",
   "metadata": {},
   "outputs": [
    {
     "data": {
      "text/plain": [
       "torch.Size([163])"
      ]
     },
     "execution_count": 30,
     "metadata": {},
     "output_type": "execute_result"
    }
   ],
   "source": [
    "input_ids.shape"
   ]
  },
  {
   "cell_type": "code",
   "execution_count": 47,
   "id": "e0945121-9bd7-44d4-9b32-647ebafdce1e",
   "metadata": {
    "scrolled": true
   },
   "outputs": [
    {
     "data": {
      "text/plain": [
       "tensor([  101, 24041,   144, 22080, 25384,   118,  5007,   113,   120,   100,\n",
       "          120, 17775,   118,   162, 11414,   118,  1474,   114,   113,  1255,\n",
       "         1347,   125,   117,  2358,   114,  1110,  1126,  1237,  2483,   117,\n",
       "         5523,   117,  1647,  2451,  1105,  3647,   119,  3526,  1105,  2120,\n",
       "         1107,  4666,   117,  2245,   117,  1131,  1982,  1107,  1672,  4241,\n",
       "         1105,  5923,  6025,  1112,   170,  2027,   117,  1105,  3152,  1106,\n",
       "         8408,  1107,  1103,  1523,  3281,  1112,  1730,  2483,  1104,   155,\n",
       "          111,   139,  1873,   118,  1372, 16784,   112,   188,  6405,   119,\n",
       "         2268, 15841,  1118,  1123,  1401,   117, 15112,  5773, 25384,   117,\n",
       "         1103,  1372,  1245,  1141,  1104,  1103,  1362,   112,   188,  1436,\n",
       "          118,  4147,  1873,  2114,  1104,  1155,  1159,   119,  2397, 14938,\n",
       "         1486,  1103,  1836,  1104, 24041,   112,   188,  1963,  1312,   117,\n",
       "        20924,  1193,  1107,  2185,   113,  1581,   114,   117,  1134,  1628,\n",
       "         1123,  1112,   170,  3444,  2360,  4529,   117,  2829,  1421,  8645,\n",
       "         2763,  1105,  2081,  1103,  4192,  4126,  1620,  1295,   118,  1141,\n",
       "         3896,   107, 11722,  1107,  2185,   107,  1105,   107,  6008,  4596,\n",
       "          107,   119,   102])"
      ]
     },
     "execution_count": 47,
     "metadata": {},
     "output_type": "execute_result"
    }
   ],
   "source": [
    "input_ids"
   ]
  },
  {
   "cell_type": "code",
   "execution_count": 69,
   "id": "70d536dc-7bc2-496f-8cb5-d3b6b5bbfd39",
   "metadata": {},
   "outputs": [],
   "source": [
    "input_list = input_ids.tolist()"
   ]
  },
  {
   "cell_type": "code",
   "execution_count": 67,
   "id": "bc95395d-564a-424c-803b-e60888be5b6e",
   "metadata": {
    "scrolled": true
   },
   "outputs": [
    {
     "ename": "AttributeError",
     "evalue": "'list' object has no attribute 'isin'",
     "output_type": "error",
     "traceback": [
      "\u001b[0;31m---------------------------------------------------------------------------\u001b[0m",
      "\u001b[0;31mAttributeError\u001b[0m                            Traceback (most recent call last)",
      "Cell \u001b[0;32mIn[67], line 1\u001b[0m\n\u001b[0;32m----> 1\u001b[0m \u001b[43manswer_ids\u001b[49m\u001b[43m[\u001b[49m\u001b[38;5;241;43m1\u001b[39;49m\u001b[43m:\u001b[49m\u001b[38;5;241;43m-\u001b[39;49m\u001b[38;5;241;43m1\u001b[39;49m\u001b[43m]\u001b[49m\u001b[38;5;241;43m.\u001b[39;49m\u001b[43mtolist\u001b[49m\u001b[43m(\u001b[49m\u001b[43m)\u001b[49m\u001b[38;5;241;43m.\u001b[39;49m\u001b[43misin\u001b[49m(input_ids\u001b[38;5;241m.\u001b[39mtolist())\n",
      "\u001b[0;31mAttributeError\u001b[0m: 'list' object has no attribute 'isin'"
     ]
    }
   ],
   "source": [
    "answer_ids[1:-1].tolist().isin(input_ids.tolist())"
   ]
  },
  {
   "cell_type": "code",
   "execution_count": 70,
   "id": "2193b23a-a2e5-4527-b49e-09f084c2e682",
   "metadata": {},
   "outputs": [],
   "source": [
    "answer_list = answer_ids[1:-1].tolist()"
   ]
  },
  {
   "cell_type": "code",
   "execution_count": 71,
   "id": "dc74e204-f023-414b-a798-1db89e153f3a",
   "metadata": {},
   "outputs": [],
   "source": [
    "points = [idx for idx in range(len(input_list) - len(answer_list) + 1) if input_list[idx: idx + len(answer_list)] == answer_list]"
   ]
  },
  {
   "cell_type": "code",
   "execution_count": 72,
   "id": "d52cbae1-fa8a-4969-aff7-9a9909f7c500",
   "metadata": {},
   "outputs": [
    {
     "data": {
      "text/plain": [
       "[61]"
      ]
     },
     "execution_count": 72,
     "metadata": {},
     "output_type": "execute_result"
    }
   ],
   "source": [
    "points"
   ]
  },
  {
   "cell_type": "code",
   "execution_count": 74,
   "id": "de5313ec-a475-4690-ab85-fabbf40ec8fa",
   "metadata": {},
   "outputs": [
    {
     "data": {
      "text/plain": [
       "'in the late 1990s'"
      ]
     },
     "execution_count": 74,
     "metadata": {},
     "output_type": "execute_result"
    }
   ],
   "source": [
    "tokenizer.decode(input_ids[61:61+len(answer_list)])"
   ]
  },
  {
   "cell_type": "code",
   "execution_count": 36,
   "id": "fb3c2910-de44-4bd0-b256-b03f618859c3",
   "metadata": {},
   "outputs": [
    {
     "data": {
      "text/plain": [
       "'##ly in Love ( 2003 ), which established her as a solo artist worldwide, earned five Grammy Awards and featured the Billboard Hot 100 number - one singles \" Crazy in Love \" and \" Baby Boy \".'"
      ]
     },
     "execution_count": 36,
     "metadata": {},
     "output_type": "execute_result"
    }
   ],
   "source": [
    "tokenizer.decode(input_ids[121:-1])"
   ]
  },
  {
   "cell_type": "code",
   "execution_count": 35,
   "id": "487a2b66-be65-4e6a-bd6f-bc52ea398b7a",
   "metadata": {},
   "outputs": [
    {
     "ename": "IndexError",
     "evalue": "index 269 is out of bounds for dimension 0 with size 163",
     "output_type": "error",
     "traceback": [
      "\u001b[0;31m---------------------------------------------------------------------------\u001b[0m",
      "\u001b[0;31mIndexError\u001b[0m                                Traceback (most recent call last)",
      "Cell \u001b[0;32mIn[35], line 1\u001b[0m\n\u001b[0;32m----> 1\u001b[0m \u001b[43minput_ids\u001b[49m\u001b[43m[\u001b[49m\u001b[43mstart_idx\u001b[49m\u001b[43m]\u001b[49m\n",
      "\u001b[0;31mIndexError\u001b[0m: index 269 is out of bounds for dimension 0 with size 163"
     ]
    }
   ],
   "source": [
    "input_ids[start_idx]"
   ]
  },
  {
   "cell_type": "markdown",
   "id": "d4475c74-8771-44c1-8297-b104f6a09372",
   "metadata": {},
   "source": [
    "## Converting target start tokens to BERTTokenizer-compatible values"
   ]
  },
  {
   "cell_type": "code",
   "execution_count": null,
   "id": "66477f07-22d3-43e2-b573-4b92bc194aba",
   "metadata": {},
   "outputs": [],
   "source": []
  }
 ],
 "metadata": {
  "kernelspec": {
   "display_name": "Python 3 (ipykernel)",
   "language": "python",
   "name": "python3"
  },
  "language_info": {
   "codemirror_mode": {
    "name": "ipython",
    "version": 3
   },
   "file_extension": ".py",
   "mimetype": "text/x-python",
   "name": "python",
   "nbconvert_exporter": "python",
   "pygments_lexer": "ipython3",
   "version": "3.11.5"
  }
 },
 "nbformat": 4,
 "nbformat_minor": 5
}
