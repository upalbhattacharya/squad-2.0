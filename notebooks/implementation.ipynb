{
 "cells": [
  {
   "cell_type": "markdown",
   "id": "543452c8-4c7d-4346-906c-b70bdb05c42e",
   "metadata": {},
   "source": [
    "# Notebook for trying various things on-the-fly for the actual implementation"
   ]
  },
  {
   "cell_type": "markdown",
   "id": "b8ff0902-7cd2-4adf-bedf-2569c631f4dc",
   "metadata": {},
   "source": [
    "## Understanding how `torch.nn.CrossEntropyLoss` works"
   ]
  },
  {
   "cell_type": "code",
   "execution_count": 1,
   "id": "c761bb09-6bd0-4a4d-a1c1-4d3fbc2c22fb",
   "metadata": {},
   "outputs": [],
   "source": [
    "import torch.nn as nn\n",
    "import torch"
   ]
  },
  {
   "cell_type": "code",
   "execution_count": 9,
   "id": "78692f6f-87d4-45c0-8308-d10891689692",
   "metadata": {},
   "outputs": [],
   "source": [
    "criterion = nn.CrossEntropyLoss(ignore_index=preds.size(-1))"
   ]
  },
  {
   "cell_type": "code",
   "execution_count": 15,
   "id": "aa691138-65f4-4691-b436-edd67ca10ed9",
   "metadata": {},
   "outputs": [],
   "source": [
    "preds = torch.rand((3,15))"
   ]
  },
  {
   "cell_type": "code",
   "execution_count": 19,
   "id": "e1fbdfed-93bb-4940-92ff-e7bf16c7895c",
   "metadata": {},
   "outputs": [
    {
     "data": {
      "text/plain": [
       "torch.Size([3, 15])"
      ]
     },
     "execution_count": 19,
     "metadata": {},
     "output_type": "execute_result"
    }
   ],
   "source": [
    "preds.size()"
   ]
  },
  {
   "cell_type": "code",
   "execution_count": 21,
   "id": "5a14dea9-cdfa-4cbc-acd3-d5876332cbcc",
   "metadata": {},
   "outputs": [],
   "source": [
    "target = torch.tensor([12,\n",
    "                       11,\n",
    "                       10])"
   ]
  },
  {
   "cell_type": "code",
   "execution_count": 22,
   "id": "2705f6c3-a00e-4ae8-aeea-fd36ba2c453c",
   "metadata": {},
   "outputs": [
    {
     "data": {
      "text/plain": [
       "torch.Size([3])"
      ]
     },
     "execution_count": 22,
     "metadata": {},
     "output_type": "execute_result"
    }
   ],
   "source": [
    "target.size()"
   ]
  },
  {
   "cell_type": "code",
   "execution_count": 24,
   "id": "6eaf394f-326a-4704-b2c8-6d2934eb60ce",
   "metadata": {},
   "outputs": [
    {
     "data": {
      "text/plain": [
       "tensor(2.6205)"
      ]
     },
     "execution_count": 24,
     "metadata": {},
     "output_type": "execute_result"
    }
   ],
   "source": [
    "criterion(preds.float(), target)"
   ]
  },
  {
   "cell_type": "markdown",
   "id": "0b67ba80-f6da-4b67-b871-d31ebabfab2d",
   "metadata": {
    "jp-MarkdownHeadingCollapsed": true
   },
   "source": [
    "## Understanding how HuggingFace's models actually work"
   ]
  },
  {
   "cell_type": "code",
   "execution_count": 46,
   "id": "31335ce9-f234-43cb-8c43-1cf832b755fc",
   "metadata": {},
   "outputs": [],
   "source": [
    "from transformers import BertForQuestionAnswering, AutoTokenizer"
   ]
  },
  {
   "cell_type": "code",
   "execution_count": 47,
   "id": "0ea854d7-f0ce-410c-92a1-2e1a16032d82",
   "metadata": {},
   "outputs": [
    {
     "data": {
      "application/vnd.jupyter.widget-view+json": {
       "model_id": "e7bc50b192884c059d23e8a531a800b6",
       "version_major": 2,
       "version_minor": 0
      },
      "text/plain": [
       "Downloading (…)okenizer_config.json:   0%|          | 0.00/152 [00:00<?, ?B/s]"
      ]
     },
     "metadata": {},
     "output_type": "display_data"
    },
    {
     "data": {
      "application/vnd.jupyter.widget-view+json": {
       "model_id": "d0146477a3e1402e973e733ca3dd846f",
       "version_major": 2,
       "version_minor": 0
      },
      "text/plain": [
       "Downloading (…)lve/main/config.json:   0%|          | 0.00/508 [00:00<?, ?B/s]"
      ]
     },
     "metadata": {},
     "output_type": "display_data"
    },
    {
     "data": {
      "application/vnd.jupyter.widget-view+json": {
       "model_id": "773e78add21a499b905282a4396c6839",
       "version_major": 2,
       "version_minor": 0
      },
      "text/plain": [
       "Downloading (…)solve/main/vocab.txt:   0%|          | 0.00/213k [00:00<?, ?B/s]"
      ]
     },
     "metadata": {},
     "output_type": "display_data"
    },
    {
     "data": {
      "application/vnd.jupyter.widget-view+json": {
       "model_id": "72cf0c56f0f84b1980a16a09a9151da3",
       "version_major": 2,
       "version_minor": 0
      },
      "text/plain": [
       "Downloading (…)cial_tokens_map.json:   0%|          | 0.00/112 [00:00<?, ?B/s]"
      ]
     },
     "metadata": {},
     "output_type": "display_data"
    },
    {
     "data": {
      "application/vnd.jupyter.widget-view+json": {
       "model_id": "fed471dabfc3434a8bacae9062e3c5d8",
       "version_major": 2,
       "version_minor": 0
      },
      "text/plain": [
       "Downloading model.safetensors:   0%|          | 0.00/433M [00:00<?, ?B/s]"
      ]
     },
     "metadata": {},
     "output_type": "display_data"
    },
    {
     "name": "stderr",
     "output_type": "stream",
     "text": [
      "Some weights of the model checkpoint at deepset/bert-base-cased-squad2 were not used when initializing BertForQuestionAnswering: ['bert.pooler.dense.weight', 'bert.pooler.dense.bias']\n",
      "- This IS expected if you are initializing BertForQuestionAnswering from the checkpoint of a model trained on another task or with another architecture (e.g. initializing a BertForSequenceClassification model from a BertForPreTraining model).\n",
      "- This IS NOT expected if you are initializing BertForQuestionAnswering from the checkpoint of a model that you expect to be exactly identical (initializing a BertForSequenceClassification model from a BertForSequenceClassification model).\n"
     ]
    }
   ],
   "source": [
    "tokenizer = AutoTokenizer.from_pretrained(\"deepset/bert-base-cased-squad2\")\n",
    "model = BertForQuestionAnswering.from_pretrained(\"deepset/bert-base-cased-squad2\")"
   ]
  },
  {
   "cell_type": "code",
   "execution_count": 48,
   "id": "cb1adb36-4aa1-42f5-b5b3-71b274bc428e",
   "metadata": {},
   "outputs": [],
   "source": [
    "question, text = \"Who was Jim Henson?\", \"Jim Henson was a nice puppet\"\n",
    "\n",
    "inputs = tokenizer(question, text, return_tensors=\"pt\")\n",
    "with torch.no_grad():\n",
    "    outputs = model(**inputs)\n",
    "\n",
    "answer_start_index = outputs.start_logits.argmax()\n",
    "answer_end_index = outputs.end_logits.argmax()"
   ]
  },
  {
   "cell_type": "code",
   "execution_count": 57,
   "id": "650cfdc8-808a-4457-9def-c2c700148bee",
   "metadata": {},
   "outputs": [
    {
     "data": {
      "text/plain": [
       "tensor([[ 1.0374, -6.9344, -6.9556, -2.8814, -7.0174, -8.2111, -7.6869, -7.3035,\n",
       "          0.8261, -4.2656, -5.2627,  0.3830,  7.0740,  5.2306,  5.6687, -7.3035]],\n",
       "       grad_fn=<CloneBackward0>)"
      ]
     },
     "execution_count": 57,
     "metadata": {},
     "output_type": "execute_result"
    }
   ],
   "source": [
    "outputs.start_logits"
   ]
  },
  {
   "cell_type": "code",
   "execution_count": 49,
   "id": "227c89a0-983f-4ed9-ac60-39925fae0f34",
   "metadata": {},
   "outputs": [
    {
     "name": "stdout",
     "output_type": "stream",
     "text": [
      "tensor(12) tensor(14)\n"
     ]
    }
   ],
   "source": [
    "print(answer_start_index, answer_end_index)"
   ]
  },
  {
   "cell_type": "code",
   "execution_count": 50,
   "id": "d0f60e68-652c-4ff3-bed3-e742300c1d33",
   "metadata": {},
   "outputs": [],
   "source": [
    "target_start_index = torch.tensor([14])\n",
    "target_end_index = torch.tensor([15])"
   ]
  },
  {
   "cell_type": "code",
   "execution_count": 55,
   "id": "f2fc8d41-61e9-44d8-a800-8b552c788522",
   "metadata": {},
   "outputs": [
    {
     "data": {
      "text/plain": [
       "tensor(12)"
      ]
     },
     "execution_count": 55,
     "metadata": {},
     "output_type": "execute_result"
    }
   ],
   "source": [
    "answer_start_index"
   ]
  },
  {
   "cell_type": "code",
   "execution_count": 54,
   "id": "fe3ef95e-8857-498a-9c4f-204b07b3ba87",
   "metadata": {
    "scrolled": true
   },
   "outputs": [
    {
     "data": {
      "text/plain": [
       "tensor([14])"
      ]
     },
     "execution_count": 54,
     "metadata": {},
     "output_type": "execute_result"
    }
   ],
   "source": [
    "target_start_index"
   ]
  },
  {
   "cell_type": "code",
   "execution_count": 51,
   "id": "db084e83-a028-4d8e-bd4b-9bea2ffefcf5",
   "metadata": {},
   "outputs": [],
   "source": [
    "outputs = model(**inputs, start_positions=target_start_index, end_positions=target_end_index)\n",
    "loss = outputs.loss"
   ]
  },
  {
   "cell_type": "code",
   "execution_count": 53,
   "id": "d72e634b-f5de-4678-ae40-8abad4700db4",
   "metadata": {},
   "outputs": [
    {
     "data": {
      "text/plain": [
       "7.4120683670043945"
      ]
     },
     "execution_count": 53,
     "metadata": {},
     "output_type": "execute_result"
    }
   ],
   "source": [
    "loss.item()"
   ]
  },
  {
   "cell_type": "markdown",
   "id": "83160c88-040d-4638-b77a-3cdcebb713d9",
   "metadata": {},
   "source": [
    "## Investigation of the compatibility of `start_index` and computed `end_index` of answers"
   ]
  },
  {
   "cell_type": "code",
   "execution_count": 44,
   "id": "db3ea57d-a945-4623-8e1c-468fd61bb860",
   "metadata": {},
   "outputs": [],
   "source": [
    "import pandas as pd\n",
    "import torch\n",
    "from transformers import BertForQuestionAnswering, AutoTokenizer"
   ]
  },
  {
   "cell_type": "code",
   "execution_count": 2,
   "id": "226c4110-295a-46ea-8b0c-22646d734e1c",
   "metadata": {},
   "outputs": [
    {
     "name": "stderr",
     "output_type": "stream",
     "text": [
      "Some weights of the model checkpoint at deepset/bert-base-cased-squad2 were not used when initializing BertForQuestionAnswering: ['bert.pooler.dense.bias', 'bert.pooler.dense.weight']\n",
      "- This IS expected if you are initializing BertForQuestionAnswering from the checkpoint of a model trained on another task or with another architecture (e.g. initializing a BertForSequenceClassification model from a BertForPreTraining model).\n",
      "- This IS NOT expected if you are initializing BertForQuestionAnswering from the checkpoint of a model that you expect to be exactly identical (initializing a BertForSequenceClassification model from a BertForSequenceClassification model).\n"
     ]
    }
   ],
   "source": [
    "tokenizer = AutoTokenizer.from_pretrained(\"bert-base-cased\")\n",
    "model = BertForQuestionAnswering.from_pretrained(\"deepset/bert-base-cased-squad2\")"
   ]
  },
  {
   "cell_type": "markdown",
   "id": "6506cd1e-acd6-4fc7-afc8-778dbf3c2f4a",
   "metadata": {},
   "source": [
    "Loading the Training DataFrame"
   ]
  },
  {
   "cell_type": "code",
   "execution_count": 3,
   "id": "36a9769e-85f3-45c7-9919-2ab879e4ecfc",
   "metadata": {},
   "outputs": [],
   "source": [
    "train_df = pd.read_csv(\"../data/train_df.csv\")"
   ]
  },
  {
   "cell_type": "code",
   "execution_count": 4,
   "id": "ad5255cb-246c-4bbd-aa4d-1a96984a3f5e",
   "metadata": {},
   "outputs": [
    {
     "data": {
      "text/plain": [
       "Index(['idx', 'question', 'answer', 'answer_start', 'is_impossible',\n",
       "       'context'],\n",
       "      dtype='object')"
      ]
     },
     "execution_count": 4,
     "metadata": {},
     "output_type": "execute_result"
    }
   ],
   "source": [
    "train_df.columns"
   ]
  },
  {
   "cell_type": "code",
   "execution_count": 14,
   "id": "36f53cc0-e5c2-44a9-a25f-3c25c1784c42",
   "metadata": {
    "scrolled": true
   },
   "outputs": [],
   "source": [
    "context = train_df.iloc[0:5][\"context\"].values.tolist()\n",
    "start_idx = train_df.iloc[0:5][\"answer_start\"].values.tolist()\n",
    "answer = train_df.iloc[0:5][\"answer\"].values.tolist()"
   ]
  },
  {
   "cell_type": "code",
   "execution_count": 15,
   "id": "740f4325-151b-407a-a7d6-635cd33963f5",
   "metadata": {},
   "outputs": [
    {
     "data": {
      "text/plain": [
       "5"
      ]
     },
     "execution_count": 15,
     "metadata": {},
     "output_type": "execute_result"
    }
   ],
   "source": [
    "len(context)"
   ]
  },
  {
   "cell_type": "code",
   "execution_count": 18,
   "id": "4a50b0ec-9d2e-43bf-b780-2ede33a16cc9",
   "metadata": {
    "scrolled": true
   },
   "outputs": [],
   "source": [
    "input = tokenizer(context, return_tensors=\"pt\", padding=\"longest\", truncation=True)"
   ]
  },
  {
   "cell_type": "code",
   "execution_count": 19,
   "id": "e5bd054d-518e-4a35-b117-3b2eccf2e7e9",
   "metadata": {},
   "outputs": [],
   "source": [
    "answer_encoded = tokenizer(answer, return_tensors=\"pt\", padding=\"longest\", truncation=True)"
   ]
  },
  {
   "cell_type": "code",
   "execution_count": 32,
   "id": "87a12c6c-ae5a-460a-8eb7-129f789bcef3",
   "metadata": {},
   "outputs": [
    {
     "data": {
      "text/plain": [
       "tensor([[ 101, 1107, 1103, 1523, 3281,  102],\n",
       "        [ 101, 4241, 1105, 5923,  102,    0],\n",
       "        [ 101, 1581,  102,    0,    0,    0],\n",
       "        [ 101, 4666,  117, 2245,  102,    0],\n",
       "        [ 101, 1523, 3281,  102,    0,    0]])"
      ]
     },
     "execution_count": 32,
     "metadata": {},
     "output_type": "execute_result"
    }
   ],
   "source": [
    "answer_encoded.input_ids"
   ]
  },
  {
   "cell_type": "code",
   "execution_count": 27,
   "id": "a3083772-3419-42a4-aa73-abad107043fb",
   "metadata": {},
   "outputs": [],
   "source": [
    "input_ids_list = input.input_ids.tolist()"
   ]
  },
  {
   "cell_type": "code",
   "execution_count": 54,
   "id": "047e4a50-6398-4db5-80a7-5d68e5f6e4f3",
   "metadata": {},
   "outputs": [],
   "source": [
    "answer_ids_list = answer_encoded.input_ids.tolist()"
   ]
  },
  {
   "cell_type": "code",
   "execution_count": 55,
   "id": "9a628a60-4f70-4afd-b93e-fc17d10d6a5c",
   "metadata": {},
   "outputs": [],
   "source": [
    "answer_ids_list = [item[1:item.index(tokenizer.encode(tokenizer.sep_token)[1])] for item in answer_ids_list]"
   ]
  },
  {
   "cell_type": "code",
   "execution_count": 56,
   "id": "b4cc90c7-a88f-4ae2-8b35-8e1a4213d3ef",
   "metadata": {},
   "outputs": [
    {
     "data": {
      "text/plain": [
       "[[1107, 1103, 1523, 3281],\n",
       " [4241, 1105, 5923],\n",
       " [1581],\n",
       " [4666, 117, 2245],\n",
       " [1523, 3281]]"
      ]
     },
     "execution_count": 56,
     "metadata": {},
     "output_type": "execute_result"
    }
   ],
   "source": [
    "answer_ids_list"
   ]
  },
  {
   "cell_type": "code",
   "execution_count": 36,
   "id": "ddf40160-75fb-4d17-9214-7dcf0c293f60",
   "metadata": {},
   "outputs": [],
   "source": [
    "start_idx = [[idx \n",
    "              for idx in range(len(input_ids_list[i]) - len(answer_ids_list[i]) + 1)\n",
    "                                   if input_ids_list[i][idx: idx + len(answer_ids_list[i])] == answer_ids_list[i]]\n",
    "             for i in range(len(answer_ids_list))]"
   ]
  },
  {
   "cell_type": "code",
   "execution_count": 37,
   "id": "1bc5a1e8-ac33-4bc9-b039-23c448909563",
   "metadata": {
    "scrolled": true
   },
   "outputs": [
    {
     "data": {
      "text/plain": [
       "[[61], [49], [125], [41], [63]]"
      ]
     },
     "execution_count": 37,
     "metadata": {},
     "output_type": "execute_result"
    }
   ],
   "source": [
    "start_idx"
   ]
  },
  {
   "cell_type": "code",
   "execution_count": 41,
   "id": "5f48821a-1571-4f48-a94c-58f5170b0843",
   "metadata": {},
   "outputs": [],
   "source": [
    "end_idx = [[start_idx[i][0] + len(answer_ids_list[i])] for i in range(len(start_idx))]"
   ]
  },
  {
   "cell_type": "code",
   "execution_count": 42,
   "id": "890d39b9-652e-4cb2-ba70-a8bf33d79ad6",
   "metadata": {},
   "outputs": [
    {
     "data": {
      "text/plain": [
       "[[65], [52], [126], [44], [65]]"
      ]
     },
     "execution_count": 42,
     "metadata": {},
     "output_type": "execute_result"
    }
   ],
   "source": [
    "end_idx"
   ]
  },
  {
   "cell_type": "code",
   "execution_count": 45,
   "id": "a11e2f5b-a7dc-45f6-8a24-f52b2dcef892",
   "metadata": {},
   "outputs": [],
   "source": [
    "start_idx = torch.tensor(start_idx)"
   ]
  },
  {
   "cell_type": "code",
   "execution_count": 46,
   "id": "9649d6b9-2b3c-478f-8990-32360097bfcb",
   "metadata": {},
   "outputs": [
    {
     "data": {
      "text/plain": [
       "torch.Size([5, 1])"
      ]
     },
     "execution_count": 46,
     "metadata": {},
     "output_type": "execute_result"
    }
   ],
   "source": [
    "start_idx.shape"
   ]
  },
  {
   "cell_type": "code",
   "execution_count": 47,
   "id": "0ed541da-f83e-472e-845c-989cd8c4783a",
   "metadata": {},
   "outputs": [],
   "source": [
    "end_idx = torch.tensor(end_idx)"
   ]
  },
  {
   "cell_type": "code",
   "execution_count": 48,
   "id": "8352946f-e490-41b2-a72f-be96dd09007f",
   "metadata": {},
   "outputs": [
    {
     "data": {
      "text/plain": [
       "torch.Size([5, 1])"
      ]
     },
     "execution_count": 48,
     "metadata": {},
     "output_type": "execute_result"
    }
   ],
   "source": [
    "end_idx.shape"
   ]
  },
  {
   "cell_type": "code",
   "execution_count": 74,
   "id": "de5313ec-a475-4690-ab85-fabbf40ec8fa",
   "metadata": {},
   "outputs": [
    {
     "data": {
      "text/plain": [
       "'in the late 1990s'"
      ]
     },
     "execution_count": 74,
     "metadata": {},
     "output_type": "execute_result"
    }
   ],
   "source": [
    "tokenizer.decode(input_ids[61:61+len(answer_list)])"
   ]
  },
  {
   "cell_type": "code",
   "execution_count": 59,
   "id": "1338d985-b81e-4aef-8127-6933d5bf0da6",
   "metadata": {},
   "outputs": [
    {
     "data": {
      "text/plain": [
       "'singing and dancing'"
      ]
     },
     "execution_count": 59,
     "metadata": {},
     "output_type": "execute_result"
    }
   ],
   "source": [
    "tokenizer.decode(input_ids[1][start_idx[1]:end_idx[1]])"
   ]
  },
  {
   "cell_type": "code",
   "execution_count": null,
   "id": "4435e436-51ef-4dd9-ad61-7d4f2d63df10",
   "metadata": {},
   "outputs": [],
   "source": []
  }
 ],
 "metadata": {
  "kernelspec": {
   "display_name": "Python 3 (ipykernel)",
   "language": "python",
   "name": "python3"
  },
  "language_info": {
   "codemirror_mode": {
    "name": "ipython",
    "version": 3
   },
   "file_extension": ".py",
   "mimetype": "text/x-python",
   "name": "python",
   "nbconvert_exporter": "python",
   "pygments_lexer": "ipython3",
   "version": "3.11.5"
  }
 },
 "nbformat": 4,
 "nbformat_minor": 5
}
