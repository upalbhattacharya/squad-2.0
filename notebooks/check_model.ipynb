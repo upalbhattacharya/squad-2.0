{
 "cells": [
  {
   "cell_type": "markdown",
   "id": "c3026c37-6f71-4191-b613-955626a39521",
   "metadata": {},
   "source": [
    "# Evaluating the architecture of BERT for Question-Answering"
   ]
  },
  {
   "cell_type": "code",
   "execution_count": 1,
   "id": "d7c481af-e04b-44e5-9678-8f8d07fcd1d3",
   "metadata": {},
   "outputs": [],
   "source": [
    "import torch\n",
    "from transformers import AutoTokenizer, BertForQuestionAnswering"
   ]
  },
  {
   "cell_type": "code",
   "execution_count": 2,
   "id": "dde5d277-b208-4fd3-9bbf-566259322b19",
   "metadata": {},
   "outputs": [],
   "source": [
    "model = BertForQuestionAnswering.from_pretrained(\"deepset/bert-base-uncased-squad2\")"
   ]
  },
  {
   "cell_type": "code",
   "execution_count": 7,
   "id": "29f3b03e-711c-45cc-8567-1ce924a89f24",
   "metadata": {
    "scrolled": true
   },
   "outputs": [
    {
     "data": {
      "text/plain": [
       "BertForQuestionAnswering(\n",
       "  (bert): BertModel(\n",
       "    (embeddings): BertEmbeddings(\n",
       "      (word_embeddings): Embedding(30522, 768, padding_idx=0)\n",
       "      (position_embeddings): Embedding(512, 768)\n",
       "      (token_type_embeddings): Embedding(2, 768)\n",
       "      (LayerNorm): LayerNorm((768,), eps=1e-12, elementwise_affine=True)\n",
       "      (dropout): Dropout(p=0.1, inplace=False)\n",
       "    )\n",
       "    (encoder): BertEncoder(\n",
       "      (layer): ModuleList(\n",
       "        (0-11): 12 x BertLayer(\n",
       "          (attention): BertAttention(\n",
       "            (self): BertSelfAttention(\n",
       "              (query): Linear(in_features=768, out_features=768, bias=True)\n",
       "              (key): Linear(in_features=768, out_features=768, bias=True)\n",
       "              (value): Linear(in_features=768, out_features=768, bias=True)\n",
       "              (dropout): Dropout(p=0.1, inplace=False)\n",
       "            )\n",
       "            (output): BertSelfOutput(\n",
       "              (dense): Linear(in_features=768, out_features=768, bias=True)\n",
       "              (LayerNorm): LayerNorm((768,), eps=1e-12, elementwise_affine=True)\n",
       "              (dropout): Dropout(p=0.1, inplace=False)\n",
       "            )\n",
       "          )\n",
       "          (intermediate): BertIntermediate(\n",
       "            (dense): Linear(in_features=768, out_features=3072, bias=True)\n",
       "            (intermediate_act_fn): GELUActivation()\n",
       "          )\n",
       "          (output): BertOutput(\n",
       "            (dense): Linear(in_features=3072, out_features=768, bias=True)\n",
       "            (LayerNorm): LayerNorm((768,), eps=1e-12, elementwise_affine=True)\n",
       "            (dropout): Dropout(p=0.1, inplace=False)\n",
       "          )\n",
       "        )\n",
       "      )\n",
       "    )\n",
       "  )\n",
       "  (qa_outputs): Linear(in_features=768, out_features=2, bias=True)\n",
       ")"
      ]
     },
     "execution_count": 7,
     "metadata": {},
     "output_type": "execute_result"
    }
   ],
   "source": [
    "model"
   ]
  },
  {
   "cell_type": "markdown",
   "id": "db165859-63c3-4d87-a426-008e15a07fcc",
   "metadata": {},
   "source": [
    "## Testing with the cleaned SQuAD-2.0 Dataset for random samples"
   ]
  },
  {
   "cell_type": "code",
   "execution_count": 30,
   "id": "cb55e919-e7eb-491a-a1e1-10f76b234b2d",
   "metadata": {},
   "outputs": [],
   "source": [
    "train_csv_path = \"../data/train_df.csv\""
   ]
  },
  {
   "cell_type": "code",
   "execution_count": 31,
   "id": "36051778-0aa6-43fd-8c70-357e26126980",
   "metadata": {},
   "outputs": [],
   "source": [
    "import pandas as pd"
   ]
  },
  {
   "cell_type": "code",
   "execution_count": 32,
   "id": "93adf83b-a5df-4c25-80e9-593173974054",
   "metadata": {},
   "outputs": [],
   "source": [
    "train_df = pd.read_csv(train_csv_path)"
   ]
  },
  {
   "cell_type": "code",
   "execution_count": 33,
   "id": "1f114302-80ec-40b5-a9fb-517fbb6283fd",
   "metadata": {},
   "outputs": [
    {
     "data": {
      "text/html": [
       "<div>\n",
       "<style scoped>\n",
       "    .dataframe tbody tr th:only-of-type {\n",
       "        vertical-align: middle;\n",
       "    }\n",
       "\n",
       "    .dataframe tbody tr th {\n",
       "        vertical-align: top;\n",
       "    }\n",
       "\n",
       "    .dataframe thead th {\n",
       "        text-align: right;\n",
       "    }\n",
       "</style>\n",
       "<table border=\"1\" class=\"dataframe\">\n",
       "  <thead>\n",
       "    <tr style=\"text-align: right;\">\n",
       "      <th></th>\n",
       "      <th>idx</th>\n",
       "      <th>question</th>\n",
       "      <th>answer</th>\n",
       "      <th>answer_start</th>\n",
       "      <th>is_impossible</th>\n",
       "      <th>context</th>\n",
       "    </tr>\n",
       "  </thead>\n",
       "  <tbody>\n",
       "    <tr>\n",
       "      <th>0</th>\n",
       "      <td>56be85543aeaaa14008c9063</td>\n",
       "      <td>When did Beyonce start becoming popular?</td>\n",
       "      <td>in the late 1990s</td>\n",
       "      <td>269</td>\n",
       "      <td>False</td>\n",
       "      <td>Beyoncé Giselle Knowles-Carter (/biːˈjɒnseɪ/ b...</td>\n",
       "    </tr>\n",
       "    <tr>\n",
       "      <th>1</th>\n",
       "      <td>56be85543aeaaa14008c9065</td>\n",
       "      <td>What areas did Beyonce compete in when she was...</td>\n",
       "      <td>singing and dancing</td>\n",
       "      <td>207</td>\n",
       "      <td>False</td>\n",
       "      <td>Beyoncé Giselle Knowles-Carter (/biːˈjɒnseɪ/ b...</td>\n",
       "    </tr>\n",
       "    <tr>\n",
       "      <th>2</th>\n",
       "      <td>56be85543aeaaa14008c9066</td>\n",
       "      <td>When did Beyonce leave Destiny's Child and bec...</td>\n",
       "      <td>2003</td>\n",
       "      <td>526</td>\n",
       "      <td>False</td>\n",
       "      <td>Beyoncé Giselle Knowles-Carter (/biːˈjɒnseɪ/ b...</td>\n",
       "    </tr>\n",
       "    <tr>\n",
       "      <th>3</th>\n",
       "      <td>56bf6b0f3aeaaa14008c9601</td>\n",
       "      <td>In what city and state did Beyonce  grow up?</td>\n",
       "      <td>Houston, Texas</td>\n",
       "      <td>166</td>\n",
       "      <td>False</td>\n",
       "      <td>Beyoncé Giselle Knowles-Carter (/biːˈjɒnseɪ/ b...</td>\n",
       "    </tr>\n",
       "    <tr>\n",
       "      <th>4</th>\n",
       "      <td>56bf6b0f3aeaaa14008c9602</td>\n",
       "      <td>In which decade did Beyonce become famous?</td>\n",
       "      <td>late 1990s</td>\n",
       "      <td>276</td>\n",
       "      <td>False</td>\n",
       "      <td>Beyoncé Giselle Knowles-Carter (/biːˈjɒnseɪ/ b...</td>\n",
       "    </tr>\n",
       "    <tr>\n",
       "      <th>...</th>\n",
       "      <td>...</td>\n",
       "      <td>...</td>\n",
       "      <td>...</td>\n",
       "      <td>...</td>\n",
       "      <td>...</td>\n",
       "      <td>...</td>\n",
       "    </tr>\n",
       "    <tr>\n",
       "      <th>86816</th>\n",
       "      <td>5735d259012e2f140011a09d</td>\n",
       "      <td>In what US state did Kathmandu first establish...</td>\n",
       "      <td>Oregon</td>\n",
       "      <td>229</td>\n",
       "      <td>False</td>\n",
       "      <td>Kathmandu Metropolitan City (KMC), in order to...</td>\n",
       "    </tr>\n",
       "    <tr>\n",
       "      <th>86817</th>\n",
       "      <td>5735d259012e2f140011a09e</td>\n",
       "      <td>What was Yangon previously known as?</td>\n",
       "      <td>Rangoon</td>\n",
       "      <td>414</td>\n",
       "      <td>False</td>\n",
       "      <td>Kathmandu Metropolitan City (KMC), in order to...</td>\n",
       "    </tr>\n",
       "    <tr>\n",
       "      <th>86818</th>\n",
       "      <td>5735d259012e2f140011a09f</td>\n",
       "      <td>With what Belorussian city does Kathmandu have...</td>\n",
       "      <td>Minsk</td>\n",
       "      <td>476</td>\n",
       "      <td>False</td>\n",
       "      <td>Kathmandu Metropolitan City (KMC), in order to...</td>\n",
       "    </tr>\n",
       "    <tr>\n",
       "      <th>86819</th>\n",
       "      <td>5735d259012e2f140011a0a0</td>\n",
       "      <td>In what year did Kathmandu create its initial ...</td>\n",
       "      <td>1975</td>\n",
       "      <td>199</td>\n",
       "      <td>False</td>\n",
       "      <td>Kathmandu Metropolitan City (KMC), in order to...</td>\n",
       "    </tr>\n",
       "    <tr>\n",
       "      <th>86820</th>\n",
       "      <td>5735d259012e2f140011a0a1</td>\n",
       "      <td>What is KMC an initialism of?</td>\n",
       "      <td>Kathmandu Metropolitan City</td>\n",
       "      <td>0</td>\n",
       "      <td>False</td>\n",
       "      <td>Kathmandu Metropolitan City (KMC), in order to...</td>\n",
       "    </tr>\n",
       "  </tbody>\n",
       "</table>\n",
       "<p>86821 rows × 6 columns</p>\n",
       "</div>"
      ],
      "text/plain": [
       "                            idx  \\\n",
       "0      56be85543aeaaa14008c9063   \n",
       "1      56be85543aeaaa14008c9065   \n",
       "2      56be85543aeaaa14008c9066   \n",
       "3      56bf6b0f3aeaaa14008c9601   \n",
       "4      56bf6b0f3aeaaa14008c9602   \n",
       "...                         ...   \n",
       "86816  5735d259012e2f140011a09d   \n",
       "86817  5735d259012e2f140011a09e   \n",
       "86818  5735d259012e2f140011a09f   \n",
       "86819  5735d259012e2f140011a0a0   \n",
       "86820  5735d259012e2f140011a0a1   \n",
       "\n",
       "                                                question  \\\n",
       "0               When did Beyonce start becoming popular?   \n",
       "1      What areas did Beyonce compete in when she was...   \n",
       "2      When did Beyonce leave Destiny's Child and bec...   \n",
       "3          In what city and state did Beyonce  grow up?    \n",
       "4             In which decade did Beyonce become famous?   \n",
       "...                                                  ...   \n",
       "86816  In what US state did Kathmandu first establish...   \n",
       "86817               What was Yangon previously known as?   \n",
       "86818  With what Belorussian city does Kathmandu have...   \n",
       "86819  In what year did Kathmandu create its initial ...   \n",
       "86820                      What is KMC an initialism of?   \n",
       "\n",
       "                            answer  answer_start  is_impossible  \\\n",
       "0                in the late 1990s           269          False   \n",
       "1              singing and dancing           207          False   \n",
       "2                             2003           526          False   \n",
       "3                   Houston, Texas           166          False   \n",
       "4                       late 1990s           276          False   \n",
       "...                            ...           ...            ...   \n",
       "86816                       Oregon           229          False   \n",
       "86817                      Rangoon           414          False   \n",
       "86818                        Minsk           476          False   \n",
       "86819                         1975           199          False   \n",
       "86820  Kathmandu Metropolitan City             0          False   \n",
       "\n",
       "                                                 context  \n",
       "0      Beyoncé Giselle Knowles-Carter (/biːˈjɒnseɪ/ b...  \n",
       "1      Beyoncé Giselle Knowles-Carter (/biːˈjɒnseɪ/ b...  \n",
       "2      Beyoncé Giselle Knowles-Carter (/biːˈjɒnseɪ/ b...  \n",
       "3      Beyoncé Giselle Knowles-Carter (/biːˈjɒnseɪ/ b...  \n",
       "4      Beyoncé Giselle Knowles-Carter (/biːˈjɒnseɪ/ b...  \n",
       "...                                                  ...  \n",
       "86816  Kathmandu Metropolitan City (KMC), in order to...  \n",
       "86817  Kathmandu Metropolitan City (KMC), in order to...  \n",
       "86818  Kathmandu Metropolitan City (KMC), in order to...  \n",
       "86819  Kathmandu Metropolitan City (KMC), in order to...  \n",
       "86820  Kathmandu Metropolitan City (KMC), in order to...  \n",
       "\n",
       "[86821 rows x 6 columns]"
      ]
     },
     "execution_count": 33,
     "metadata": {},
     "output_type": "execute_result"
    }
   ],
   "source": [
    "train_df"
   ]
  },
  {
   "cell_type": "code",
   "execution_count": 34,
   "id": "1c759c98-6e9e-4082-8707-09883845a629",
   "metadata": {},
   "outputs": [
    {
     "data": {
      "application/vnd.jupyter.widget-view+json": {
       "model_id": "a277beeff1da455ca1e5720cfc4b0e39",
       "version_major": 2,
       "version_minor": 0
      },
      "text/plain": [
       "Downloading (…)okenizer_config.json:   0%|          | 0.00/302 [00:00<?, ?B/s]"
      ]
     },
     "metadata": {},
     "output_type": "display_data"
    },
    {
     "data": {
      "application/vnd.jupyter.widget-view+json": {
       "model_id": "bda60032ab3c4afdade3e1ccf25581b8",
       "version_major": 2,
       "version_minor": 0
      },
      "text/plain": [
       "Downloading (…)solve/main/vocab.txt:   0%|          | 0.00/232k [00:00<?, ?B/s]"
      ]
     },
     "metadata": {},
     "output_type": "display_data"
    },
    {
     "data": {
      "application/vnd.jupyter.widget-view+json": {
       "model_id": "2878d295f035454db51b3e1233e47362",
       "version_major": 2,
       "version_minor": 0
      },
      "text/plain": [
       "Downloading (…)/main/tokenizer.json:   0%|          | 0.00/466k [00:00<?, ?B/s]"
      ]
     },
     "metadata": {},
     "output_type": "display_data"
    },
    {
     "data": {
      "application/vnd.jupyter.widget-view+json": {
       "model_id": "89990c97ff7b435bba893cf28280080a",
       "version_major": 2,
       "version_minor": 0
      },
      "text/plain": [
       "Downloading (…)cial_tokens_map.json:   0%|          | 0.00/112 [00:00<?, ?B/s]"
      ]
     },
     "metadata": {},
     "output_type": "display_data"
    }
   ],
   "source": [
    "tokenizer = AutoTokenizer.from_pretrained(\"deepset/bert-base-uncased-squad2\")"
   ]
  },
  {
   "cell_type": "code",
   "execution_count": 36,
   "id": "398c703f-182d-4e0e-9b87-42bfe828c58a",
   "metadata": {},
   "outputs": [],
   "source": [
    "q = train_df.iloc[0][\"question\"]"
   ]
  },
  {
   "cell_type": "code",
   "execution_count": 37,
   "id": "633f33fe-369b-47b3-b8ff-063b94a7fdd1",
   "metadata": {},
   "outputs": [
    {
     "data": {
      "text/plain": [
       "'When did Beyonce start becoming popular?'"
      ]
     },
     "execution_count": 37,
     "metadata": {},
     "output_type": "execute_result"
    }
   ],
   "source": [
    "q"
   ]
  },
  {
   "cell_type": "code",
   "execution_count": 38,
   "id": "9efe22e5-82d4-4805-90a8-3e08a8eeaa8d",
   "metadata": {},
   "outputs": [],
   "source": [
    "c = train_df.iloc[0][\"context\"]"
   ]
  },
  {
   "cell_type": "code",
   "execution_count": 39,
   "id": "c97f7e83-81b8-46ab-aa4f-67e8af3eee83",
   "metadata": {},
   "outputs": [],
   "source": [
    "prompt = tokenizer(q, c, return_tensors=\"pt\")"
   ]
  },
  {
   "cell_type": "code",
   "execution_count": 40,
   "id": "75dc40a4-377a-45aa-98c2-d26aa0095b93",
   "metadata": {},
   "outputs": [
    {
     "data": {
      "text/plain": [
       "{'input_ids': tensor([[  101,  2043,  2106, 20773,  2707,  3352,  2759,  1029,   102, 20773,\n",
       "         21025, 19358, 22815,  1011,  5708,  1006,  1013, 12170, 23432, 29715,\n",
       "          3501, 29678, 12325, 29685,  1013, 10506,  1011, 10930,  2078,  1011,\n",
       "          2360,  1007,  1006,  2141,  2244,  1018,  1010,  3261,  1007,  2003,\n",
       "          2019,  2137,  3220,  1010,  6009,  1010,  2501,  3135,  1998,  3883,\n",
       "          1012,  2141,  1998,  2992,  1999,  5395,  1010,  3146,  1010,  2016,\n",
       "          2864,  1999,  2536,  4823,  1998,  5613,  6479,  2004,  1037,  2775,\n",
       "          1010,  1998,  3123,  2000,  4476,  1999,  1996,  2397,  4134,  2004,\n",
       "          2599,  3220,  1997,  1054,  1004,  1038,  2611,  1011,  2177, 10461,\n",
       "          1005,  1055,  2775,  1012,  3266,  2011,  2014,  2269,  1010, 25436,\n",
       "         22815,  1010,  1996,  2177,  2150,  2028,  1997,  1996,  2088,  1005,\n",
       "          1055,  2190,  1011,  4855,  2611,  2967,  1997,  2035,  2051,  1012,\n",
       "          2037, 14221,  2387,  1996,  2713,  1997, 20773,  1005,  1055,  2834,\n",
       "          2201,  1010, 20754,  1999,  2293,  1006,  2494,  1007,  1010,  2029,\n",
       "          2511,  2014,  2004,  1037,  3948,  3063,  4969,  1010,  3687,  2274,\n",
       "          8922,  2982,  1998,  2956,  1996,  4908,  2980,  2531,  2193,  1011,\n",
       "          2028,  3895,  1000,  4689,  1999,  2293,  1000,  1998,  1000,  3336,\n",
       "          2879,  1000,  1012,   102]]), 'token_type_ids': tensor([[0, 0, 0, 0, 0, 0, 0, 0, 0, 1, 1, 1, 1, 1, 1, 1, 1, 1, 1, 1, 1, 1, 1, 1,\n",
       "         1, 1, 1, 1, 1, 1, 1, 1, 1, 1, 1, 1, 1, 1, 1, 1, 1, 1, 1, 1, 1, 1, 1, 1,\n",
       "         1, 1, 1, 1, 1, 1, 1, 1, 1, 1, 1, 1, 1, 1, 1, 1, 1, 1, 1, 1, 1, 1, 1, 1,\n",
       "         1, 1, 1, 1, 1, 1, 1, 1, 1, 1, 1, 1, 1, 1, 1, 1, 1, 1, 1, 1, 1, 1, 1, 1,\n",
       "         1, 1, 1, 1, 1, 1, 1, 1, 1, 1, 1, 1, 1, 1, 1, 1, 1, 1, 1, 1, 1, 1, 1, 1,\n",
       "         1, 1, 1, 1, 1, 1, 1, 1, 1, 1, 1, 1, 1, 1, 1, 1, 1, 1, 1, 1, 1, 1, 1, 1,\n",
       "         1, 1, 1, 1, 1, 1, 1, 1, 1, 1, 1, 1, 1, 1, 1, 1, 1, 1, 1, 1, 1, 1, 1, 1,\n",
       "         1, 1, 1, 1, 1, 1]]), 'attention_mask': tensor([[1, 1, 1, 1, 1, 1, 1, 1, 1, 1, 1, 1, 1, 1, 1, 1, 1, 1, 1, 1, 1, 1, 1, 1,\n",
       "         1, 1, 1, 1, 1, 1, 1, 1, 1, 1, 1, 1, 1, 1, 1, 1, 1, 1, 1, 1, 1, 1, 1, 1,\n",
       "         1, 1, 1, 1, 1, 1, 1, 1, 1, 1, 1, 1, 1, 1, 1, 1, 1, 1, 1, 1, 1, 1, 1, 1,\n",
       "         1, 1, 1, 1, 1, 1, 1, 1, 1, 1, 1, 1, 1, 1, 1, 1, 1, 1, 1, 1, 1, 1, 1, 1,\n",
       "         1, 1, 1, 1, 1, 1, 1, 1, 1, 1, 1, 1, 1, 1, 1, 1, 1, 1, 1, 1, 1, 1, 1, 1,\n",
       "         1, 1, 1, 1, 1, 1, 1, 1, 1, 1, 1, 1, 1, 1, 1, 1, 1, 1, 1, 1, 1, 1, 1, 1,\n",
       "         1, 1, 1, 1, 1, 1, 1, 1, 1, 1, 1, 1, 1, 1, 1, 1, 1, 1, 1, 1, 1, 1, 1, 1,\n",
       "         1, 1, 1, 1, 1, 1]])}"
      ]
     },
     "execution_count": 40,
     "metadata": {},
     "output_type": "execute_result"
    }
   ],
   "source": [
    "prompt"
   ]
  },
  {
   "cell_type": "code",
   "execution_count": 42,
   "id": "cd549d0d-0f9a-44bd-9626-13fe9b48c322",
   "metadata": {},
   "outputs": [],
   "source": [
    "outputs = model(**prompt)"
   ]
  },
  {
   "cell_type": "code",
   "execution_count": 43,
   "id": "b356c5d9-99b8-46fd-9897-6a9260eadd5b",
   "metadata": {},
   "outputs": [
    {
     "data": {
      "text/plain": [
       "QuestionAnsweringModelOutput(loss=None, start_logits=tensor([[ 2.2298, -4.6121, -5.3336, -5.2261, -5.8015, -5.8606, -5.7483, -6.2092,\n",
       "         -1.6701,  1.5185, -0.9734, -2.7100,  0.3109, -3.1559, -1.0464, -1.3659,\n",
       "         -2.8769, -3.2209, -5.1629, -5.4390, -5.0180, -5.1036, -5.0535, -5.1325,\n",
       "         -4.6149, -2.8693, -5.4491, -4.8233, -5.2988, -5.5535, -4.6595, -2.8359,\n",
       "          0.8846,  2.3510,  4.0506,  1.6662, -1.7486,  4.2999, -1.2688, -2.3620,\n",
       "         -2.6707, -1.9643, -2.0897, -5.1541, -1.9234, -4.9418, -2.4350, -2.4140,\n",
       "         -4.7538, -2.3700, -1.5672, -0.1169, -4.5734, -2.2279, -2.8869, -0.0741,\n",
       "         -3.8213, -0.8613, -0.4781,  0.9880, -2.6846, -4.3749, -2.4699, -1.6268,\n",
       "         -4.8492, -2.6007, -2.2432, -1.2542, -2.6415, -0.3159,  0.3272,  1.4804,\n",
       "          3.8874, -0.3280,  1.7922,  7.5550,  9.6724, 10.5494,  9.2525, -2.0965,\n",
       "         -1.5884, -1.9894, -3.6670, -0.9500, -4.3003, -3.6991, -1.9921, -4.9055,\n",
       "         -3.2902,  0.3638, -2.8201, -3.9051, -1.7892, -0.9588, -2.4677, -4.6455,\n",
       "         -1.2600, -2.4993, -4.2096, -1.0650, -1.8594, -3.2296, -3.2261, -4.3390,\n",
       "         -3.6792, -2.9968, -4.9144, -3.3900, -2.9074, -2.1141, -5.3332, -2.7093,\n",
       "         -4.3447, -2.8816, -2.1754, -4.3472, -5.0110, -3.8883, -3.5364, -3.1950,\n",
       "         -3.1246, -1.1765, -3.9225, -3.1848, -3.4357, -4.2603,  0.2833, -1.9662,\n",
       "         -4.0053, -2.5978, -3.2423, -3.3557, -0.1911, -3.9959, -2.6740,  0.8809,\n",
       "          5.1044, -3.4350, -3.3629, -4.3259, -3.0618, -4.0150, -5.2340, -4.7275,\n",
       "         -3.2787, -4.1791, -2.9216, -4.0879, -3.4018, -2.9424, -3.5925, -4.3201,\n",
       "         -4.9601, -3.6777, -4.3403, -2.9091, -2.6997, -1.1966, -4.2437, -4.5455,\n",
       "         -4.6381, -4.3964, -3.3719, -1.9327, -4.7455, -3.7339, -5.2178, -4.7993,\n",
       "         -3.7831, -3.1533, -4.1042, -4.7853, -3.3970, -1.7700]],\n",
       "       grad_fn=<CloneBackward0>), end_logits=tensor([[ 2.1254, -6.0708, -5.5583, -5.6793, -6.6116, -6.4609, -6.2578, -5.1770,\n",
       "         -1.1704,  1.8401, -2.3911,  0.0167,  0.3727, -2.7894,  1.5696, -0.7870,\n",
       "         -3.6429, -4.3113, -4.6616, -4.7324, -4.1601, -4.3749, -3.7477, -3.0062,\n",
       "         -4.2742, -4.0072, -5.2812, -4.4491, -4.0523, -5.2838, -2.8107, -0.2152,\n",
       "          0.1446,  0.2393,  0.6802,  1.2364,  0.2003,  4.4399,  2.8540, -0.5473,\n",
       "         -1.3949, -0.9570, -1.5573, -2.6189, -1.6934, -2.7765, -3.3042, -1.8705,\n",
       "         -3.8084, -1.1776,  2.0527, -0.9577, -3.6725, -2.3974, -3.3238, -1.3588,\n",
       "         -2.8184, -0.2963,  2.5641,  0.2658, -2.4066, -3.1959, -2.8371, -1.9692,\n",
       "         -4.0593, -1.6358, -1.1109, -2.1272, -2.9719,  1.4272,  2.7113, -0.4357,\n",
       "         -0.8025, -2.0345,  0.2845,  1.6431,  2.7681,  3.4257, 10.8115,  1.9840,\n",
       "         -2.0814,  0.6924, -1.7796, -2.1395, -3.2422, -1.2403, -1.6585, -3.7146,\n",
       "         -1.2530, -1.3757, -2.1367, -2.4087,  2.2894,  4.6643, -2.5970, -3.6357,\n",
       "         -2.1386, -2.0461, -2.0859, -2.6270, -1.0799,  0.3453, -2.5079, -2.3647,\n",
       "         -3.0308, -2.9846, -3.8385, -3.8269, -2.9171, -1.9601, -2.7028, -3.5041,\n",
       "         -3.7213, -1.7800, -2.6002, -2.0396, -4.9653, -3.7289,  0.4521,  1.2221,\n",
       "         -2.3500, -0.7377, -3.1421, -3.8451, -2.5554, -3.2402,  0.4813, -1.7932,\n",
       "         -0.7350, -3.1141, -2.2326, -1.2376, -2.5639, -3.8474, -1.0289, -1.4567,\n",
       "          4.8094,  1.0328,  0.5870, -2.8092, -3.4487, -1.4866, -4.1765, -4.1929,\n",
       "         -2.9874, -2.6495, -1.8173, -0.9272, -3.8296, -2.3765, -3.0258, -2.5330,\n",
       "         -3.4792, -3.8090, -3.8726, -3.3171, -3.7261,  0.1056, -4.4698, -4.1241,\n",
       "         -2.9158, -2.6974, -3.5535, -3.2923, -4.4357, -2.3647, -3.2326, -3.5545,\n",
       "         -4.3170, -4.0186, -2.6711, -3.1573, -1.0416, -1.2820]],\n",
       "       grad_fn=<CloneBackward0>), hidden_states=None, attentions=None)"
      ]
     },
     "execution_count": 43,
     "metadata": {},
     "output_type": "execute_result"
    }
   ],
   "source": [
    "outputs"
   ]
  },
  {
   "cell_type": "code",
   "execution_count": 54,
   "id": "4f6e22c3-6a1b-41fd-8fac-8ad89f072618",
   "metadata": {},
   "outputs": [],
   "source": [
    "start_id = outputs.start_logits.argmax()\n",
    "end_id = outputs.end_logits.argmax()"
   ]
  },
  {
   "cell_type": "code",
   "execution_count": 55,
   "id": "204f982c-7d0d-467e-a8b0-b67ecd3f0c40",
   "metadata": {},
   "outputs": [
    {
     "data": {
      "text/plain": [
       "(tensor(77), tensor(78))"
      ]
     },
     "execution_count": 55,
     "metadata": {},
     "output_type": "execute_result"
    }
   ],
   "source": [
    "start_id, end_id"
   ]
  },
  {
   "cell_type": "code",
   "execution_count": 56,
   "id": "3851fee9-0fbe-49c7-a57a-9e39114c38ce",
   "metadata": {},
   "outputs": [],
   "source": [
    "predict_answer_tokens = prompt.input_ids[0, start_id : end_id + 1]"
   ]
  },
  {
   "cell_type": "code",
   "execution_count": 57,
   "id": "97bfa02d-bcd6-41a8-bfe1-faf66f82e101",
   "metadata": {
    "scrolled": true
   },
   "outputs": [
    {
     "data": {
      "text/plain": [
       "tensor([2397, 4134])"
      ]
     },
     "execution_count": 57,
     "metadata": {},
     "output_type": "execute_result"
    }
   ],
   "source": [
    "predict_answer_tokens"
   ]
  },
  {
   "cell_type": "code",
   "execution_count": 58,
   "id": "9bc7f012-5bec-4897-90e7-ec92638ce91c",
   "metadata": {},
   "outputs": [
    {
     "data": {
      "text/plain": [
       "'late 1990s'"
      ]
     },
     "execution_count": 58,
     "metadata": {},
     "output_type": "execute_result"
    }
   ],
   "source": [
    "tokenizer.decode(predict_answer_tokens, skip_special_tokens=True)"
   ]
  },
  {
   "cell_type": "code",
   "execution_count": 59,
   "id": "52d5e96c-4056-4dd9-8455-be2fd2cb2dc7",
   "metadata": {},
   "outputs": [
    {
     "data": {
      "text/plain": [
       "'in the late 1990s'"
      ]
     },
     "execution_count": 59,
     "metadata": {},
     "output_type": "execute_result"
    }
   ],
   "source": [
    "train_df.iloc[0][\"answer\"]"
   ]
  },
  {
   "cell_type": "code",
   "execution_count": null,
   "id": "8b3e676f-f565-4118-b71f-ae5cef3e74a8",
   "metadata": {},
   "outputs": [],
   "source": []
  }
 ],
 "metadata": {
  "kernelspec": {
   "display_name": "Python 3 (ipykernel)",
   "language": "python",
   "name": "python3"
  },
  "language_info": {
   "codemirror_mode": {
    "name": "ipython",
    "version": 3
   },
   "file_extension": ".py",
   "mimetype": "text/x-python",
   "name": "python",
   "nbconvert_exporter": "python",
   "pygments_lexer": "ipython3",
   "version": "3.11.3"
  }
 },
 "nbformat": 4,
 "nbformat_minor": 5
}
